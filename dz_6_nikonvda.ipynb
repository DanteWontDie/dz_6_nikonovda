{
 "cells": [
  {
   "cell_type": "markdown",
   "id": "6408af46-98a5-4cfe-95ad-9585b1a0b8ba",
   "metadata": {},
   "source": [
    "Задание\n",
    "Нужно реализовать класс Account, который отражает абстракцию базового\n",
    "поведения банковского аккаунта:\n",
    "● создать банковский аккаунт с параметрами: имя; стартовый баланс с\n",
    "которым зарегистрирован аккаунт; история операций*;\n",
    "● реализовать два метода, которые позволяют положить деньги на счёт\n",
    "или снять деньги со счёта;\n",
    "● продумать, как можно хранить историю поступления или снятия\n",
    "денег, чтобы с ней было удобно работать*.\n",
    "*Задачи повышенной сложности на 9 и 10 баллов"
   ]
  },
  {
   "cell_type": "code",
   "execution_count": 36,
   "id": "75d05277-ae26-4698-8ca8-430808db3b18",
   "metadata": {},
   "outputs": [
    {
     "name": "stdout",
     "output_type": "stream",
     "text": [
      "Добрый день, Иван Сидовов\n",
      "Изначальный баланс: 0\n",
      "Новый баланс после пополнения: 50000\n",
      "Новый баланс после снятия: 49000\n"
     ]
    }
   ],
   "source": [
    "class Account: #создаем класс\n",
    "    def __init__(self, name, initial_balance=0):\n",
    "        self.name = name # имя\n",
    "        self.balance = initial_balance # начальный баланс\n",
    "        self.history = [] # тут будет храниться история. Вообще нужна БД, но не сейчас\n",
    "    \n",
    "    def deposit(self, amount): # добавляет сумму к текущему балансу и записывает в историю\n",
    "        if amount <= 0:\n",
    "            raise ValueError(\"Сумма депозита должна быть больше 0\")\n",
    "        \n",
    "        self.balance += amount\n",
    "        self.history.append(('deposit', amount))\n",
    "    \n",
    "    def sending_money(self, amount): # отправляет деньги и пишет в историю\n",
    "        if amount > self.balance:\n",
    "            raise ValueError(\"Недостаточно средств на счету\")\n",
    "        \n",
    "        self.balance -= amount\n",
    "        self.history.append(('sending_money', amount))\n",
    "    \n",
    "    def get_history(self): # возвращает историю \"транзакций\"\n",
    "        return self.history\n",
    "\n",
    "if __name__ == \"__main__\":\n",
    "    account = Account('Иван Сидовов', 0)  # создаем аккаунт с начальным балансом 0\n",
    "\n",
    "print(f\"Добрый день, {account.name}\")\n",
    "print(f\"Изначальный баланс: {account.balance}\")\n",
    "account.deposit(50000)   # Пополняем счет на 50000\n",
    "print(f\"Новый баланс после пополнения: {account.balance}\")\n",
    "history = account.get_history() #Баланс должен быть 50000\n",
    "account.sending_money(1000)  # Снимаем 10000\n",
    "print(f\"Новый баланс после снятия: {account.balance}\") \n",
    "history = account.get_history()  # должно быть 40000"
   ]
  },
  {
   "cell_type": "code",
   "execution_count": null,
   "id": "dedf16b2-2873-4dcf-b7eb-84d00501789a",
   "metadata": {},
   "outputs": [],
   "source": []
  }
 ],
 "metadata": {
  "kernelspec": {
   "display_name": "Python 3 (ipykernel)",
   "language": "python",
   "name": "python3"
  },
  "language_info": {
   "codemirror_mode": {
    "name": "ipython",
    "version": 3
   },
   "file_extension": ".py",
   "mimetype": "text/x-python",
   "name": "python",
   "nbconvert_exporter": "python",
   "pygments_lexer": "ipython3",
   "version": "3.12.7"
  }
 },
 "nbformat": 4,
 "nbformat_minor": 5
}
